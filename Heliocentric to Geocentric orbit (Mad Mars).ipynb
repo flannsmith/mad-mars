{
 "cells": [
  {
   "cell_type": "code",
   "execution_count": 1,
   "metadata": {},
   "outputs": [],
   "source": [
    "import math\n",
    "import pandas as pd\n",
    "from datetime import datetime, timedelta, date, time"
   ]
  },
  {
   "cell_type": "markdown",
   "metadata": {},
   "source": [
    "### Universal Epoch date in astronomy - J2000 (Julian years)"
   ]
  },
  {
   "cell_type": "code",
   "execution_count": 2,
   "metadata": {},
   "outputs": [],
   "source": [
    "# Convert 01.01.2000 @ 00:00 UT to datetime\n",
    "d = date(2000,1,1)\n",
    "t = time(0, 0)\n",
    "j2000 = datetime.combine(d,t)"
   ]
  },
  {
   "cell_type": "code",
   "execution_count": 3,
   "metadata": {},
   "outputs": [
    {
     "data": {
      "text/plain": [
       "datetime.datetime(2000, 1, 1, 0, 0)"
      ]
     },
     "execution_count": 3,
     "metadata": {},
     "output_type": "execute_result"
    }
   ],
   "source": [
    "j2000"
   ]
  },
  {
   "cell_type": "markdown",
   "metadata": {},
   "source": [
    "### User input"
   ]
  },
  {
   "cell_type": "code",
   "execution_count": 4,
   "metadata": {},
   "outputs": [
    {
     "name": "stdout",
     "output_type": "stream",
     "text": [
      "Please enter your day of birth: 1\n",
      "Please enter your month of birth: 4\n",
      "Please enter your year of birth: 2020\n"
     ]
    }
   ],
   "source": [
    "# Enter day, month and year in numerical form\n",
    "day = int(input(\"Please enter your day of birth: \"))\n",
    "month = int(input(\"Please enter your month of birth: \"))\n",
    "year = int(input(\"Please enter your year of birth: \"))"
   ]
  },
  {
   "cell_type": "code",
   "execution_count": 5,
   "metadata": {},
   "outputs": [
    {
     "name": "stdout",
     "output_type": "stream",
     "text": [
      "Please enter your time of birth in HHMM format: 0000\n"
     ]
    }
   ],
   "source": [
    "# (12,30)\n",
    "t = int(input(\"Please enter your time of birth in HHMM format: \"))"
   ]
  },
  {
   "cell_type": "code",
   "execution_count": 6,
   "metadata": {},
   "outputs": [],
   "source": [
    "usr_time = time(t)"
   ]
  },
  {
   "cell_type": "code",
   "execution_count": 7,
   "metadata": {},
   "outputs": [],
   "source": [
    "usr_dob = date(year, month, day)"
   ]
  },
  {
   "cell_type": "code",
   "execution_count": 8,
   "metadata": {},
   "outputs": [],
   "source": [
    "usr_data = datetime.combine(usr_dob, usr_time)"
   ]
  },
  {
   "cell_type": "code",
   "execution_count": 9,
   "metadata": {},
   "outputs": [
    {
     "data": {
      "text/plain": [
       "datetime.datetime(2020, 4, 1, 0, 0)"
      ]
     },
     "execution_count": 9,
     "metadata": {},
     "output_type": "execute_result"
    }
   ],
   "source": [
    "usr_data"
   ]
  },
  {
   "cell_type": "code",
   "execution_count": 10,
   "metadata": {},
   "outputs": [],
   "source": [
    "# Does the calculation change for dates before j2000? \n",
    "if j2000 > usr_data:\n",
    "    yrs_since_epoch = j2000 - usr_data\n",
    "else:\n",
    "    yrs_since_epoch = usr_data - j2000"
   ]
  },
  {
   "cell_type": "code",
   "execution_count": 11,
   "metadata": {},
   "outputs": [
    {
     "data": {
      "text/plain": [
       "datetime.timedelta(days=7396)"
      ]
     },
     "execution_count": 11,
     "metadata": {},
     "output_type": "execute_result"
    }
   ],
   "source": [
    "yrs_since_epoch"
   ]
  },
  {
   "cell_type": "code",
   "execution_count": 12,
   "metadata": {},
   "outputs": [
    {
     "name": "stdout",
     "output_type": "stream",
     "text": [
      "<class 'datetime.timedelta'>\n"
     ]
    }
   ],
   "source": [
    "# convert datetime epoch to int\n",
    "days_since_epoch = yrs_since_epoch.days\n",
    "print(type(yrs_since_epoch))"
   ]
  },
  {
   "cell_type": "code",
   "execution_count": 13,
   "metadata": {},
   "outputs": [],
   "source": [
    "# Celestial coordinates at epoch 01.01.2000 @ 00:00 UT\n",
    "df ={'Planet':['Mercury','Venus','Earth','Mars','Jupiter','Saturn'],'λi':[250.2,181.2,100.0,355.2,34.3,50.1],'T_(Days)':[87.969,224.701,365.256,686.980,4332.59,10759.2],'ω0':[4.09235,1.60213,0.98561,0.52403,0.08308,0.03346],'λp':[77.5,131.6,102.9,336.1,14.3,93.1],'e':[0.2056,0.0068,0.0167,0.0934,0.0485,0.0555], 'a (A.U.)':[0.387,0.723,1.0,1.52,5.2,9.55]}"
   ]
  },
  {
   "cell_type": "code",
   "execution_count": 14,
   "metadata": {},
   "outputs": [],
   "source": [
    "df = pd.DataFrame(data=df)"
   ]
  },
  {
   "cell_type": "code",
   "execution_count": 15,
   "metadata": {},
   "outputs": [
    {
     "data": {
      "text/html": [
       "<div>\n",
       "<style scoped>\n",
       "    .dataframe tbody tr th:only-of-type {\n",
       "        vertical-align: middle;\n",
       "    }\n",
       "\n",
       "    .dataframe tbody tr th {\n",
       "        vertical-align: top;\n",
       "    }\n",
       "\n",
       "    .dataframe thead th {\n",
       "        text-align: right;\n",
       "    }\n",
       "</style>\n",
       "<table border=\"1\" class=\"dataframe\">\n",
       "  <thead>\n",
       "    <tr style=\"text-align: right;\">\n",
       "      <th></th>\n",
       "      <th>Planet</th>\n",
       "      <th>λi</th>\n",
       "      <th>T_(Days)</th>\n",
       "      <th>ω0</th>\n",
       "      <th>λp</th>\n",
       "      <th>e</th>\n",
       "      <th>a (A.U.)</th>\n",
       "    </tr>\n",
       "  </thead>\n",
       "  <tbody>\n",
       "    <tr>\n",
       "      <th>0</th>\n",
       "      <td>Mercury</td>\n",
       "      <td>250.2</td>\n",
       "      <td>87.969</td>\n",
       "      <td>4.09235</td>\n",
       "      <td>77.5</td>\n",
       "      <td>0.2056</td>\n",
       "      <td>0.387</td>\n",
       "    </tr>\n",
       "    <tr>\n",
       "      <th>1</th>\n",
       "      <td>Venus</td>\n",
       "      <td>181.2</td>\n",
       "      <td>224.701</td>\n",
       "      <td>1.60213</td>\n",
       "      <td>131.6</td>\n",
       "      <td>0.0068</td>\n",
       "      <td>0.723</td>\n",
       "    </tr>\n",
       "    <tr>\n",
       "      <th>2</th>\n",
       "      <td>Earth</td>\n",
       "      <td>100.0</td>\n",
       "      <td>365.256</td>\n",
       "      <td>0.98561</td>\n",
       "      <td>102.9</td>\n",
       "      <td>0.0167</td>\n",
       "      <td>1.000</td>\n",
       "    </tr>\n",
       "    <tr>\n",
       "      <th>3</th>\n",
       "      <td>Mars</td>\n",
       "      <td>355.2</td>\n",
       "      <td>686.980</td>\n",
       "      <td>0.52403</td>\n",
       "      <td>336.1</td>\n",
       "      <td>0.0934</td>\n",
       "      <td>1.520</td>\n",
       "    </tr>\n",
       "    <tr>\n",
       "      <th>4</th>\n",
       "      <td>Jupiter</td>\n",
       "      <td>34.3</td>\n",
       "      <td>4332.590</td>\n",
       "      <td>0.08308</td>\n",
       "      <td>14.3</td>\n",
       "      <td>0.0485</td>\n",
       "      <td>5.200</td>\n",
       "    </tr>\n",
       "    <tr>\n",
       "      <th>5</th>\n",
       "      <td>Saturn</td>\n",
       "      <td>50.1</td>\n",
       "      <td>10759.200</td>\n",
       "      <td>0.03346</td>\n",
       "      <td>93.1</td>\n",
       "      <td>0.0555</td>\n",
       "      <td>9.550</td>\n",
       "    </tr>\n",
       "  </tbody>\n",
       "</table>\n",
       "</div>"
      ],
      "text/plain": [
       "    Planet     λi   T_(Days)       ω0     λp       e  a (A.U.)\n",
       "0  Mercury  250.2     87.969  4.09235   77.5  0.2056     0.387\n",
       "1    Venus  181.2    224.701  1.60213  131.6  0.0068     0.723\n",
       "2    Earth  100.0    365.256  0.98561  102.9  0.0167     1.000\n",
       "3     Mars  355.2    686.980  0.52403  336.1  0.0934     1.520\n",
       "4  Jupiter   34.3   4332.590  0.08308   14.3  0.0485     5.200\n",
       "5   Saturn   50.1  10759.200  0.03346   93.1  0.0555     9.550"
      ]
     },
     "execution_count": 15,
     "metadata": {},
     "output_type": "execute_result"
    }
   ],
   "source": [
    "df"
   ]
  },
  {
   "cell_type": "markdown",
   "metadata": {},
   "source": [
    "### Function to calculate heliocentric longitude "
   ]
  },
  {
   "cell_type": "code",
   "execution_count": 45,
   "metadata": {},
   "outputs": [],
   "source": [
    "planet = \"Saturn\""
   ]
  },
  {
   "cell_type": "code",
   "execution_count": 48,
   "metadata": {},
   "outputs": [],
   "source": [
    "def helio_longitude(df, planet, days_since_epoch):\n",
    "    'Calculate heliocentric longitude for a given planet'\n",
    "    # Circular orbit\n",
    "    init_mean_long = df.loc[df.Planet == planet, \"λi\"].iloc[0]\n",
    "    angle_trav_per_day = df.loc[df.Planet == planet, \"ω0\"].iloc[0]\n",
    "    mean_ang_traversed = angle_trav_per_day * days_since_epoch\n",
    "    mean_long = init_mean_long + mean_ang_traversed\n",
    "    helio_mean_long = round(mean_long % 360,2)\n",
    "    # Convert circular to heliocentric orbit\n",
    "    perihelion_long = df.loc[df.Planet == planet, \"λp\"].iloc[0]\n",
    "    eccentricity = df.loc[df.Planet == planet, \"e\"].iloc[0]\n",
    "    mean_anomaly = helio_mean_long - perihelion_long\n",
    "    helio_ellip = math.degrees(2*eccentricity*(math.sin(math.radians(mean_anomaly)))) + math.degrees((1.25 * eccentricity**2*math.sin(math.radians(2*mean_anomaly))))\n",
    "    frac_of_year = round(days_since_epoch / 365.25,2)\n",
    "    prec_vern_eqnx = round(frac_of_year * 360/25800,2)\n",
    "    geo_longitude = helio_mean_long + helio_ellip + prec_vern_eqnx\n",
    "    return geo_longitude"
   ]
  },
  {
   "cell_type": "code",
   "execution_count": 47,
   "metadata": {},
   "outputs": [
    {
     "data": {
      "text/plain": [
       "295.3819936777624"
      ]
     },
     "execution_count": 47,
     "metadata": {},
     "output_type": "execute_result"
    }
   ],
   "source": [
    "helio_longitude(df, planet, days_since_epoch)"
   ]
  },
  {
   "cell_type": "markdown",
   "metadata": {},
   "source": [
    "### Calculate Mars heliocentric circular orbit for inputted user DOB"
   ]
  },
  {
   "cell_type": "code",
   "execution_count": 31,
   "metadata": {},
   "outputs": [
    {
     "data": {
      "text/plain": [
       "355.2"
      ]
     },
     "execution_count": 31,
     "metadata": {},
     "output_type": "execute_result"
    }
   ],
   "source": [
    "init_mean_long = df.loc[df.Planet == \"Mars\", \"λi\"].iloc[0] \n",
    "init_mean_long"
   ]
  },
  {
   "cell_type": "code",
   "execution_count": 79,
   "metadata": {},
   "outputs": [
    {
     "data": {
      "text/plain": [
       "0.52403"
      ]
     },
     "execution_count": 79,
     "metadata": {},
     "output_type": "execute_result"
    }
   ],
   "source": [
    "angle_trav_per_day = df.loc[df.Planet == \"Mars\", \"ω0\"].iloc[0]\n",
    "angle_trav_per_day"
   ]
  },
  {
   "cell_type": "code",
   "execution_count": 93,
   "metadata": {},
   "outputs": [
    {
     "data": {
      "text/plain": [
       "3875.72588"
      ]
     },
     "execution_count": 93,
     "metadata": {},
     "output_type": "execute_result"
    }
   ],
   "source": [
    "mean_ang_traversed = angle_trav_per_day * days_since_epoch\n",
    "mean_ang_traversed"
   ]
  },
  {
   "cell_type": "code",
   "execution_count": 94,
   "metadata": {},
   "outputs": [
    {
     "data": {
      "text/plain": [
       "4230.92588"
      ]
     },
     "execution_count": 94,
     "metadata": {},
     "output_type": "execute_result"
    }
   ],
   "source": [
    "mean_long = init_mean_long + mean_ang_traversed\n",
    "mean_long"
   ]
  },
  {
   "cell_type": "code",
   "execution_count": 134,
   "metadata": {},
   "outputs": [
    {
     "data": {
      "text/plain": [
       "270.93"
      ]
     },
     "execution_count": 134,
     "metadata": {},
     "output_type": "execute_result"
    }
   ],
   "source": [
    "helio_mean_long = round(mean_long % 360,2)\n",
    "helio_mean_long"
   ]
  },
  {
   "cell_type": "markdown",
   "metadata": {},
   "source": [
    "### Correct Mars circular to Heliocentric elliptical orbit"
   ]
  },
  {
   "cell_type": "code",
   "execution_count": 135,
   "metadata": {},
   "outputs": [],
   "source": [
    "# Formula to correct for elliptical orbit\n",
    "perihelion_long = df.loc[df.Planet == \"Mars\", \"λp\"].iloc[0]\n",
    "eccentricity = df.loc[df.Planet == \"Mars\", \"e\"].iloc[0]"
   ]
  },
  {
   "cell_type": "code",
   "execution_count": 136,
   "metadata": {},
   "outputs": [
    {
     "data": {
      "text/plain": [
       "270.93"
      ]
     },
     "execution_count": 136,
     "metadata": {},
     "output_type": "execute_result"
    }
   ],
   "source": [
    "helio_mean_long"
   ]
  },
  {
   "cell_type": "code",
   "execution_count": 137,
   "metadata": {},
   "outputs": [
    {
     "name": "stdout",
     "output_type": "stream",
     "text": [
      "336.1\n",
      "-65.17000000000002\n",
      "0.0934\n"
     ]
    }
   ],
   "source": [
    "mean_anomaly = helio_mean_long - perihelion_long\n",
    "\n",
    "print(perihelion_long)\n",
    "print(mean_anomaly)\n",
    "print(eccentricity)"
   ]
  },
  {
   "cell_type": "code",
   "execution_count": 138,
   "metadata": {},
   "outputs": [
    {
     "data": {
      "text/plain": [
       "-10.189672605719439"
      ]
     },
     "execution_count": 138,
     "metadata": {},
     "output_type": "execute_result"
    }
   ],
   "source": [
    "helio_ellip = math.degrees(2*eccentricity*(math.sin(math.radians(mean_anomaly)))) + math.degrees((1.25 * eccentricity**2*math.sin(math.radians(2*mean_anomaly))))\n",
    "helio_ellip"
   ]
  },
  {
   "cell_type": "code",
   "execution_count": 139,
   "metadata": {},
   "outputs": [
    {
     "data": {
      "text/plain": [
       "0.28"
      ]
     },
     "execution_count": 139,
     "metadata": {},
     "output_type": "execute_result"
    }
   ],
   "source": [
    "# Precession of vernal equinox from time of user's DOB in years\n",
    "frac_of_year = round(days_since_epoch / 365.25,2)\n",
    "prec_vern_eqnx = round(frac_of_year * 360/25800,2)\n",
    "prec_vern_eqnx"
   ]
  },
  {
   "cell_type": "code",
   "execution_count": 140,
   "metadata": {},
   "outputs": [
    {
     "data": {
      "text/plain": [
       "261.0203273942805"
      ]
     },
     "execution_count": 140,
     "metadata": {},
     "output_type": "execute_result"
    }
   ],
   "source": [
    "helio_mean_long + helio_ellip + precession_v_eq"
   ]
  },
  {
   "cell_type": "markdown",
   "metadata": {},
   "source": [
    "### Correct Mercury circular to Heliocentric elliptical orbit"
   ]
  },
  {
   "cell_type": "code",
   "execution_count": 164,
   "metadata": {},
   "outputs": [
    {
     "name": "stdout",
     "output_type": "stream",
     "text": [
      "77.5\n",
      "199.7\n",
      "0.2056\n"
     ]
    }
   ],
   "source": [
    "# Formula to correct for elliptical orbit\n",
    "perihelion_long = df.loc[df.Planet == \"Mercury\", \"λp\"].iloc[0]\n",
    "eccentricity = df.loc[df.Planet == \"Mercury\", \"e\"].iloc[0]\n",
    "\n",
    "# mean_anomaly = helio_mean_long - perihelion_long \n",
    "helio_mean_long = 277.2 #Mercury\n",
    "mean_anomaly = helio_mean_long - perihelion_long\n",
    "\n",
    "print(perihelion_long)\n",
    "print(mean_anomaly)\n",
    "print(eccentricity)"
   ]
  },
  {
   "cell_type": "code",
   "execution_count": 165,
   "metadata": {},
   "outputs": [
    {
     "data": {
      "text/plain": [
       "-6.020349318634777"
      ]
     },
     "execution_count": 165,
     "metadata": {},
     "output_type": "execute_result"
    }
   ],
   "source": [
    "helio_ellip = math.degrees(2*eccentricity*(math.sin(math.radians(mean_anomaly)))) + math.degrees((1.25 * eccentricity**2*math.sin(math.radians(2*mean_anomaly))))\n",
    "helio_ellip"
   ]
  },
  {
   "cell_type": "code",
   "execution_count": 166,
   "metadata": {},
   "outputs": [
    {
     "data": {
      "text/plain": [
       "0.28"
      ]
     },
     "execution_count": 166,
     "metadata": {},
     "output_type": "execute_result"
    }
   ],
   "source": [
    "# Precession of vernal equinox from time of user's DOB in years\n",
    "frac_of_year = round(days_since_epoch / 365.25,2)\n",
    "prec_vern_eqnx = round(frac_of_year * 360/25800,2)\n",
    "prec_vern_eqnx"
   ]
  },
  {
   "cell_type": "code",
   "execution_count": 167,
   "metadata": {},
   "outputs": [
    {
     "data": {
      "text/plain": [
       "271.4596506813652"
      ]
     },
     "execution_count": 167,
     "metadata": {},
     "output_type": "execute_result"
    }
   ],
   "source": [
    "# Should be 261.0 for Mars\n",
    "# Longitude of vernal equinox for Mars = mean longitude + mean anomaly + precession of vernal equinox\n",
    "helio_mean_long + helio_ellip + precession_v_eq"
   ]
  },
  {
   "cell_type": "markdown",
   "metadata": {},
   "source": [
    "## Function to generate helio_mean_long from all planets"
   ]
  },
  {
   "cell_type": "markdown",
   "metadata": {},
   "source": [
    "### Calculate Geocentric longitude"
   ]
  },
  {
   "cell_type": "markdown",
   "metadata": {},
   "source": [
    "1. Calculate radii, r, of planet's orbit around the sun, for that epoch, giving their positions in polar form ((r, λ)"
   ]
  },
  {
   "cell_type": "markdown",
   "metadata": {},
   "source": [
    "### Getting Mercury's geocentric coordinates"
   ]
  },
  {
   "cell_type": "code",
   "execution_count": 155,
   "metadata": {},
   "outputs": [
    {
     "data": {
      "text/plain": [
       "0.387"
      ]
     },
     "execution_count": 155,
     "metadata": {},
     "output_type": "execute_result"
    }
   ],
   "source": [
    "a = df.loc[df.Planet == \"Mercury\", \"a (A.U.)\"].iloc[0]\n",
    "a"
   ]
  },
  {
   "cell_type": "code",
   "execution_count": 157,
   "metadata": {},
   "outputs": [
    {
     "data": {
      "text/plain": [
       "0.2056"
      ]
     },
     "execution_count": 157,
     "metadata": {},
     "output_type": "execute_result"
    }
   ],
   "source": [
    "e = df.loc[df.Planet == \"Mercury\", \"e\"].iloc[0]\n",
    "e"
   ]
  },
  {
   "cell_type": "code",
   "execution_count": 160,
   "metadata": {},
   "outputs": [],
   "source": [
    "r = a*(1-e**2)/1+(e*math.cos(mean_anomaly))"
   ]
  },
  {
   "cell_type": "code",
   "execution_count": 161,
   "metadata": {},
   "outputs": [
    {
     "data": {
      "text/plain": [
       "0.4132723832527231"
      ]
     },
     "execution_count": 161,
     "metadata": {},
     "output_type": "execute_result"
    }
   ],
   "source": [
    "r"
   ]
  },
  {
   "cell_type": "code",
   "execution_count": 168,
   "metadata": {},
   "outputs": [],
   "source": [
    "helio_polar_coord = [r, helio_mean_long]"
   ]
  },
  {
   "cell_type": "code",
   "execution_count": 169,
   "metadata": {},
   "outputs": [
    {
     "data": {
      "text/plain": [
       "[0.4132723832527231, 277.2]"
      ]
     },
     "execution_count": 169,
     "metadata": {},
     "output_type": "execute_result"
    }
   ],
   "source": [
    "helio_polar_coord"
   ]
  },
  {
   "cell_type": "markdown",
   "metadata": {},
   "source": [
    "### Find r_AU of Sun/Earth"
   ]
  },
  {
   "cell_type": "code",
   "execution_count": null,
   "metadata": {},
   "outputs": [],
   "source": [
    "e = df.loc[df.Planet == \"Earth\", \"e\"].iloc[0]\n",
    "r_earth = a*(1-e**2)/1+(e*math.cos(mean_anomaly))"
   ]
  }
 ],
 "metadata": {
  "kernelspec": {
   "display_name": "Python 3",
   "language": "python",
   "name": "python3"
  },
  "language_info": {
   "codemirror_mode": {
    "name": "ipython",
    "version": 3
   },
   "file_extension": ".py",
   "mimetype": "text/x-python",
   "name": "python",
   "nbconvert_exporter": "python",
   "pygments_lexer": "ipython3",
   "version": "3.7.4"
  }
 },
 "nbformat": 4,
 "nbformat_minor": 2
}
