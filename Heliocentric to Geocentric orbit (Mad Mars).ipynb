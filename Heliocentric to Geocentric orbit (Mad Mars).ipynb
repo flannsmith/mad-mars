{
 "cells": [
  {
   "cell_type": "code",
   "execution_count": 1,
   "metadata": {},
   "outputs": [],
   "source": [
    "import math\n",
    "import pandas as pd\n",
    "from datetime import datetime, timedelta, date, time"
   ]
  },
  {
   "cell_type": "markdown",
   "metadata": {},
   "source": [
    "### Missing planets or celestial bodies"
   ]
  },
  {
   "cell_type": "markdown",
   "metadata": {},
   "source": [
    "    *Pluto\n",
    "    *Moon\n",
    "\n",
    "    *Chiron\n",
    "    *Ceres\n",
    "    *Juno\n",
    "    *Lillith\n",
    "    *Nodes"
   ]
  },
  {
   "cell_type": "markdown",
   "metadata": {},
   "source": [
    "### Universal Epoch date in astronomy - J2000 (Julian years)"
   ]
  },
  {
   "cell_type": "code",
   "execution_count": 2,
   "metadata": {},
   "outputs": [],
   "source": [
    "# Celestial coordinates at epoch 01.01.2000 @ 00:00 UT\n",
    "df ={'Planet':['Mercury','Venus','Earth','Mars','Jupiter','Saturn'],'λi':[250.2,181.2,100.0,355.2,34.3,50.1],'T_(Days)':[87.969,224.701,365.256,686.980,4332.59,10759.2],'ω0':[4.09235,1.60213,0.98561,0.52403,0.08308,0.03346],'λp':[77.5,131.6,102.9,336.1,14.3,93.1],'e':[0.2056,0.0068,0.0167,0.0934,0.0485,0.0555], 'a (A.U.)':[0.387,0.723,1.0,1.52,5.2,9.55]}"
   ]
  },
  {
   "cell_type": "code",
   "execution_count": 3,
   "metadata": {},
   "outputs": [],
   "source": [
    "df = pd.DataFrame(data=df)"
   ]
  },
  {
   "cell_type": "code",
   "execution_count": 4,
   "metadata": {},
   "outputs": [
    {
     "data": {
      "text/html": [
       "<div>\n",
       "<style scoped>\n",
       "    .dataframe tbody tr th:only-of-type {\n",
       "        vertical-align: middle;\n",
       "    }\n",
       "\n",
       "    .dataframe tbody tr th {\n",
       "        vertical-align: top;\n",
       "    }\n",
       "\n",
       "    .dataframe thead th {\n",
       "        text-align: right;\n",
       "    }\n",
       "</style>\n",
       "<table border=\"1\" class=\"dataframe\">\n",
       "  <thead>\n",
       "    <tr style=\"text-align: right;\">\n",
       "      <th></th>\n",
       "      <th>Planet</th>\n",
       "      <th>λi</th>\n",
       "      <th>T_(Days)</th>\n",
       "      <th>ω0</th>\n",
       "      <th>λp</th>\n",
       "      <th>e</th>\n",
       "      <th>a (A.U.)</th>\n",
       "    </tr>\n",
       "  </thead>\n",
       "  <tbody>\n",
       "    <tr>\n",
       "      <th>0</th>\n",
       "      <td>Mercury</td>\n",
       "      <td>250.2</td>\n",
       "      <td>87.969</td>\n",
       "      <td>4.09235</td>\n",
       "      <td>77.5</td>\n",
       "      <td>0.2056</td>\n",
       "      <td>0.387</td>\n",
       "    </tr>\n",
       "    <tr>\n",
       "      <th>1</th>\n",
       "      <td>Venus</td>\n",
       "      <td>181.2</td>\n",
       "      <td>224.701</td>\n",
       "      <td>1.60213</td>\n",
       "      <td>131.6</td>\n",
       "      <td>0.0068</td>\n",
       "      <td>0.723</td>\n",
       "    </tr>\n",
       "    <tr>\n",
       "      <th>2</th>\n",
       "      <td>Earth</td>\n",
       "      <td>100.0</td>\n",
       "      <td>365.256</td>\n",
       "      <td>0.98561</td>\n",
       "      <td>102.9</td>\n",
       "      <td>0.0167</td>\n",
       "      <td>1.000</td>\n",
       "    </tr>\n",
       "    <tr>\n",
       "      <th>3</th>\n",
       "      <td>Mars</td>\n",
       "      <td>355.2</td>\n",
       "      <td>686.980</td>\n",
       "      <td>0.52403</td>\n",
       "      <td>336.1</td>\n",
       "      <td>0.0934</td>\n",
       "      <td>1.520</td>\n",
       "    </tr>\n",
       "    <tr>\n",
       "      <th>4</th>\n",
       "      <td>Jupiter</td>\n",
       "      <td>34.3</td>\n",
       "      <td>4332.590</td>\n",
       "      <td>0.08308</td>\n",
       "      <td>14.3</td>\n",
       "      <td>0.0485</td>\n",
       "      <td>5.200</td>\n",
       "    </tr>\n",
       "    <tr>\n",
       "      <th>5</th>\n",
       "      <td>Saturn</td>\n",
       "      <td>50.1</td>\n",
       "      <td>10759.200</td>\n",
       "      <td>0.03346</td>\n",
       "      <td>93.1</td>\n",
       "      <td>0.0555</td>\n",
       "      <td>9.550</td>\n",
       "    </tr>\n",
       "  </tbody>\n",
       "</table>\n",
       "</div>"
      ],
      "text/plain": [
       "    Planet     λi   T_(Days)       ω0     λp       e  a (A.U.)\n",
       "0  Mercury  250.2     87.969  4.09235   77.5  0.2056     0.387\n",
       "1    Venus  181.2    224.701  1.60213  131.6  0.0068     0.723\n",
       "2    Earth  100.0    365.256  0.98561  102.9  0.0167     1.000\n",
       "3     Mars  355.2    686.980  0.52403  336.1  0.0934     1.520\n",
       "4  Jupiter   34.3   4332.590  0.08308   14.3  0.0485     5.200\n",
       "5   Saturn   50.1  10759.200  0.03346   93.1  0.0555     9.550"
      ]
     },
     "execution_count": 4,
     "metadata": {},
     "output_type": "execute_result"
    }
   ],
   "source": [
    "df"
   ]
  },
  {
   "cell_type": "markdown",
   "metadata": {},
   "source": [
    "### Get days since epoch and user dob"
   ]
  },
  {
   "cell_type": "code",
   "execution_count": 53,
   "metadata": {},
   "outputs": [],
   "source": [
    "def get_usr_dob():\n",
    "    # Enter day, month and year in numerical form (1/4/2020)\n",
    "    day = int(input(\"Please enter your day of birth: \"))\n",
    "    month = int(input(\"Please enter your month of birth: \"))\n",
    "    year = int(input(\"Please enter your year of birth: \"))\n",
    "    # (1230)\n",
    "    t = int(input(\"Please enter your time of birth in HHMM format: \"))\n",
    "    usr_time = time(t)\n",
    "    usr_dob = date(year, month, day)\n",
    "    usr_data = datetime.combine(usr_dob, usr_time)\n",
    "    return usr_data"
   ]
  },
  {
   "cell_type": "code",
   "execution_count": 54,
   "metadata": {},
   "outputs": [
    {
     "name": "stdout",
     "output_type": "stream",
     "text": [
      "Please enter your day of birth: 1\n",
      "Please enter your month of birth: 4\n",
      "Please enter your year of birth: 2020\n",
      "Please enter your time of birth in HHMM format: 0000\n"
     ]
    }
   ],
   "source": [
    "usr_data = get_usr_dob()"
   ]
  },
  {
   "cell_type": "code",
   "execution_count": 68,
   "metadata": {},
   "outputs": [],
   "source": [
    "def get_yrs_since_epoch(usr_data):\n",
    "    # Define epoch time\n",
    "    d = date(2000,1,1)\n",
    "    t = time(0, 0)\n",
    "    j2000 = datetime.combine(d,t)\n",
    "    if j2000 > usr_data:\n",
    "        yrs_since_epoch = j2000 - usr_data\n",
    "    else:\n",
    "        yrs_since_epoch = usr_data - j2000\n",
    "    return round(yrs_since_epoch.days / 365.25,2)"
   ]
  },
  {
   "cell_type": "code",
   "execution_count": 69,
   "metadata": {},
   "outputs": [
    {
     "data": {
      "text/plain": [
       "20.25"
      ]
     },
     "execution_count": 69,
     "metadata": {},
     "output_type": "execute_result"
    }
   ],
   "source": [
    "get_yrs_since_epoch(usr_data)"
   ]
  },
  {
   "cell_type": "code",
   "execution_count": 47,
   "metadata": {},
   "outputs": [],
   "source": [
    "def get_days_since_epoch():\n",
    "    # Convert 01.01.2000 @ 00:00 UT to datetime\n",
    "    d = date(2000,1,1)\n",
    "    t = time(0, 0)\n",
    "    j2000 = datetime.combine(d,t)\n",
    "    # Enter day, month and year in numerical form (1/4/2020)\n",
    "    day = int(input(\"Please enter your day of birth: \"))\n",
    "    month = int(input(\"Please enter your month of birth: \"))\n",
    "    year = int(input(\"Please enter your year of birth: \"))\n",
    "    # (1230)\n",
    "    t = int(input(\"Please enter your time of birth in HHMM format: \"))\n",
    "    usr_time = time(t)\n",
    "    usr_dob = date(year, month, day)\n",
    "    usr_data = datetime.combine(usr_dob, usr_time)\n",
    "    # Does the calculation change for dates before j2000? \n",
    "    if j2000 > usr_data:\n",
    "        yrs_since_epoch = j2000 - usr_data\n",
    "    else:\n",
    "        yrs_since_epoch = usr_data - j2000\n",
    "#   convert datetime epoch to int\n",
    "#   days_since_epoch = yrs_since_epoch.days\n",
    "    return yrs_since_epoch"
   ]
  },
  {
   "cell_type": "code",
   "execution_count": null,
   "metadata": {},
   "outputs": [],
   "source": []
  },
  {
   "cell_type": "markdown",
   "metadata": {},
   "source": [
    "### Function to calculate heliocentric longitude "
   ]
  },
  {
   "cell_type": "code",
   "execution_count": 6,
   "metadata": {},
   "outputs": [
    {
     "name": "stdout",
     "output_type": "stream",
     "text": [
      "Please enter your day of birth: 1\n",
      "Please enter your month of birth: 4\n",
      "Please enter your year of birth: 2020\n",
      "Please enter your time of birth in HHMM format: 0000\n"
     ]
    }
   ],
   "source": [
    "days_since_epoch = get_days_since_epoch()"
   ]
  },
  {
   "cell_type": "code",
   "execution_count": 48,
   "metadata": {},
   "outputs": [
    {
     "name": "stdout",
     "output_type": "stream",
     "text": [
      "Please enter your day of birth: 1\n",
      "Please enter your month of birth: 4\n",
      "Please enter your year of birth: 2020\n",
      "Please enter your time of birth in HHMM format: 0000\n"
     ]
    }
   ],
   "source": [
    "years_since_epoch = get_days_since_epoch()"
   ]
  },
  {
   "cell_type": "code",
   "execution_count": 51,
   "metadata": {},
   "outputs": [
    {
     "data": {
      "text/plain": [
       "datetime.timedelta(days=7396)"
      ]
     },
     "execution_count": 51,
     "metadata": {},
     "output_type": "execute_result"
    }
   ],
   "source": [
    "years_since_epoch"
   ]
  },
  {
   "cell_type": "code",
   "execution_count": 7,
   "metadata": {},
   "outputs": [
    {
     "data": {
      "text/plain": [
       "7396"
      ]
     },
     "execution_count": 7,
     "metadata": {},
     "output_type": "execute_result"
    }
   ],
   "source": [
    "days_since_epoch"
   ]
  },
  {
   "cell_type": "code",
   "execution_count": 8,
   "metadata": {},
   "outputs": [],
   "source": [
    "def helio_longitude(df, days_since_epoch):\n",
    "    'Calculate heliocentric longitude for a each planet in dataframe for a given date'\n",
    "    # Circular orbit\n",
    "    init_mean_long = df[\"λi\"]\n",
    "    angle_trav_per_day = df[\"ω0\"]\n",
    "    mean_ang_traversed = angle_trav_per_day * days_since_epoch\n",
    "    mean_long = init_mean_long + mean_ang_traversed\n",
    "    helio_mean_long = round(mean_long % 360,2)\n",
    "    # Convert circular to heliocentric orbit\n",
    "    perihelion_long = df[\"λp\"]\n",
    "    eccentricity = df[\"e\"]\n",
    "    mean_anomaly = helio_mean_long - perihelion_long\n",
    "    helio_ellip = math.degrees(2*eccentricity*(math.sin(math.radians(mean_anomaly)))) + math.degrees((1.25 * eccentricity**2*math.sin(math.radians(2*mean_anomaly))))\n",
    "    frac_of_year = round(days_since_epoch / 365.25,2)\n",
    "    prec_vern_eqnx = round(frac_of_year * 360/25800,2)\n",
    "    geo_longitude = helio_mean_long + helio_ellip + prec_vern_eqnx\n",
    "    return geo_longitude"
   ]
  },
  {
   "cell_type": "code",
   "execution_count": 9,
   "metadata": {},
   "outputs": [],
   "source": [
    "df['λ (helio)'] = round(df.apply(helio_longitude,axis=1,args=(days_since_epoch,)),1)"
   ]
  },
  {
   "cell_type": "markdown",
   "metadata": {},
   "source": [
    "### Fix mean anomaly calc to extract Anomaly"
   ]
  },
  {
   "cell_type": "code",
   "execution_count": null,
   "metadata": {},
   "outputs": [],
   "source": [
    "mercury_mean_long = 277.2\n",
    "peri_mean_long = 77.5\n"
   ]
  },
  {
   "cell_type": "code",
   "execution_count": 13,
   "metadata": {},
   "outputs": [],
   "source": [
    "def get_mean_anomoly(df):\n",
    "    init_mean_long = df[\"λi\"]\n",
    "    angle_trav_per_day = df[\"ω0\"]\n",
    "    mean_ang_traversed = angle_trav_per_day * days_since_epoch\n",
    "    mean_long = init_mean_long + mean_ang_traversed\n",
    "    helio_mean_long = round(mean_long % 360,2)\n",
    "    # Convert circular to heliocentric orbit\n",
    "    perihelion_long = df[\"λp\"]\n",
    "    eccentricity = df[\"e\"]\n",
    "    mean_anomaly = round(helio_mean_long - perihelion_long,1)\n",
    "    return mean_anomaly"
   ]
  },
  {
   "cell_type": "code",
   "execution_count": 14,
   "metadata": {},
   "outputs": [],
   "source": [
    "df['λ (helio)'] = round(df.apply(helio_longitude,axis=1,args=(days_since_epoch,)),1)"
   ]
  },
  {
   "cell_type": "code",
   "execution_count": 15,
   "metadata": {},
   "outputs": [],
   "source": [
    "# Mean anomoly is slightly off θ(◦) see table 2 \n",
    "df['θ0(◦) mean anomoly'] = df.apply(get_mean_anomoly,axis=1)"
   ]
  },
  {
   "cell_type": "code",
   "execution_count": 27,
   "metadata": {},
   "outputs": [
    {
     "data": {
      "text/plain": [
       "199.7"
      ]
     },
     "execution_count": 27,
     "metadata": {},
     "output_type": "execute_result"
    }
   ],
   "source": [
    "# mean_anomoly = mean_longitude - perihelion_longitude\n",
    "mean_anomaly = 277.2 - 77.5\n",
    "mean_anomaly"
   ]
  },
  {
   "cell_type": "code",
   "execution_count": 28,
   "metadata": {},
   "outputs": [],
   "source": [
    "eccentricity = 0.2056"
   ]
  },
  {
   "cell_type": "code",
   "execution_count": 32,
   "metadata": {},
   "outputs": [
    {
     "data": {
      "text/plain": [
       "-7.9"
      ]
     },
     "execution_count": 32,
     "metadata": {},
     "output_type": "execute_result"
    }
   ],
   "source": [
    "Delta_anomoly_1 = round(math.degrees(2*eccentricity*(math.sin(math.radians(mean_anomaly)))),1) \n",
    "Delta_anomoly_1"
   ]
  },
  {
   "cell_type": "code",
   "execution_count": 33,
   "metadata": {},
   "outputs": [
    {
     "data": {
      "text/plain": [
       "1.9"
      ]
     },
     "execution_count": 33,
     "metadata": {},
     "output_type": "execute_result"
    }
   ],
   "source": [
    "Delta_anomoly_2 = round(math.degrees(1.25 * eccentricity**2*math.sin(math.radians(2*mean_anomaly))),1)\n",
    "Delta_anomoly_2"
   ]
  },
  {
   "cell_type": "code",
   "execution_count": 37,
   "metadata": {},
   "outputs": [
    {
     "data": {
      "text/plain": [
       "-6.0"
      ]
     },
     "execution_count": 37,
     "metadata": {},
     "output_type": "execute_result"
    }
   ],
   "source": [
    "# ∆θ(◦) = ∆θ1 + ∆θ2  \n",
    "total_correction = Delta_anomoly_1 + Delta_anomoly_2\n",
    "total_correction"
   ]
  },
  {
   "cell_type": "code",
   "execution_count": 39,
   "metadata": {},
   "outputs": [
    {
     "data": {
      "text/plain": [
       "193.7"
      ]
     },
     "execution_count": 39,
     "metadata": {},
     "output_type": "execute_result"
    }
   ],
   "source": [
    "Anomoly_θ = mean_anomaly + total_correction\n",
    "Anomoly_θ"
   ]
  },
  {
   "cell_type": "code",
   "execution_count": 44,
   "metadata": {},
   "outputs": [
    {
     "data": {
      "text/plain": [
       "7396"
      ]
     },
     "execution_count": 44,
     "metadata": {},
     "output_type": "execute_result"
    }
   ],
   "source": [
    "# convert this to years datetime\n",
    "days_since_epoch"
   ]
  },
  {
   "cell_type": "code",
   "execution_count": 41,
   "metadata": {},
   "outputs": [
    {
     "data": {
      "text/plain": [
       "0.283"
      ]
     },
     "execution_count": 41,
     "metadata": {},
     "output_type": "execute_result"
    }
   ],
   "source": [
    "frac_of_year = round(days_since_epoch / 365.25,3)\n",
    "prec_vern_eqnx = round(frac_of_year * 360/25800,3)\n",
    "prec_vern_eqnx"
   ]
  },
  {
   "cell_type": "code",
   "execution_count": null,
   "metadata": {},
   "outputs": [],
   "source": []
  },
  {
   "cell_type": "code",
   "execution_count": null,
   "metadata": {},
   "outputs": [],
   "source": [
    "df['∆θ(◦)'] = \n",
    "# df['θ(◦)'] =  "
   ]
  },
  {
   "cell_type": "code",
   "execution_count": 19,
   "metadata": {},
   "outputs": [
    {
     "data": {
      "text/html": [
       "<div>\n",
       "<style scoped>\n",
       "    .dataframe tbody tr th:only-of-type {\n",
       "        vertical-align: middle;\n",
       "    }\n",
       "\n",
       "    .dataframe tbody tr th {\n",
       "        vertical-align: top;\n",
       "    }\n",
       "\n",
       "    .dataframe thead th {\n",
       "        text-align: right;\n",
       "    }\n",
       "</style>\n",
       "<table border=\"1\" class=\"dataframe\">\n",
       "  <thead>\n",
       "    <tr style=\"text-align: right;\">\n",
       "      <th></th>\n",
       "      <th>Planet</th>\n",
       "      <th>λi</th>\n",
       "      <th>T_(Days)</th>\n",
       "      <th>ω0</th>\n",
       "      <th>λp</th>\n",
       "      <th>e</th>\n",
       "      <th>a (A.U.)</th>\n",
       "      <th>λ (helio)</th>\n",
       "      <th>θ0(◦) mean anomoly</th>\n",
       "    </tr>\n",
       "  </thead>\n",
       "  <tbody>\n",
       "    <tr>\n",
       "      <th>0</th>\n",
       "      <td>Mercury</td>\n",
       "      <td>250.2</td>\n",
       "      <td>87.969</td>\n",
       "      <td>4.09235</td>\n",
       "      <td>77.5</td>\n",
       "      <td>0.2056</td>\n",
       "      <td>0.387</td>\n",
       "      <td>271.5</td>\n",
       "      <td>199.7</td>\n",
       "    </tr>\n",
       "    <tr>\n",
       "      <th>1</th>\n",
       "      <td>Venus</td>\n",
       "      <td>181.2</td>\n",
       "      <td>224.701</td>\n",
       "      <td>1.60213</td>\n",
       "      <td>131.6</td>\n",
       "      <td>0.0068</td>\n",
       "      <td>0.723</td>\n",
       "      <td>151.1</td>\n",
       "      <td>19.0</td>\n",
       "    </tr>\n",
       "    <tr>\n",
       "      <th>2</th>\n",
       "      <td>Earth</td>\n",
       "      <td>100.0</td>\n",
       "      <td>365.256</td>\n",
       "      <td>0.98561</td>\n",
       "      <td>102.9</td>\n",
       "      <td>0.0167</td>\n",
       "      <td>1.000</td>\n",
       "      <td>191.8</td>\n",
       "      <td>86.7</td>\n",
       "    </tr>\n",
       "    <tr>\n",
       "      <th>3</th>\n",
       "      <td>Mars</td>\n",
       "      <td>355.2</td>\n",
       "      <td>686.980</td>\n",
       "      <td>0.52403</td>\n",
       "      <td>336.1</td>\n",
       "      <td>0.0934</td>\n",
       "      <td>1.520</td>\n",
       "      <td>261.0</td>\n",
       "      <td>-65.2</td>\n",
       "    </tr>\n",
       "    <tr>\n",
       "      <th>4</th>\n",
       "      <td>Jupiter</td>\n",
       "      <td>34.3</td>\n",
       "      <td>4332.590</td>\n",
       "      <td>0.08308</td>\n",
       "      <td>14.3</td>\n",
       "      <td>0.0485</td>\n",
       "      <td>5.200</td>\n",
       "      <td>283.5</td>\n",
       "      <td>274.5</td>\n",
       "    </tr>\n",
       "    <tr>\n",
       "      <th>5</th>\n",
       "      <td>Saturn</td>\n",
       "      <td>50.1</td>\n",
       "      <td>10759.200</td>\n",
       "      <td>0.03346</td>\n",
       "      <td>93.1</td>\n",
       "      <td>0.0555</td>\n",
       "      <td>9.550</td>\n",
       "      <td>295.4</td>\n",
       "      <td>204.5</td>\n",
       "    </tr>\n",
       "  </tbody>\n",
       "</table>\n",
       "</div>"
      ],
      "text/plain": [
       "    Planet     λi   T_(Days)       ω0     λp       e  a (A.U.)  λ (helio)  \\\n",
       "0  Mercury  250.2     87.969  4.09235   77.5  0.2056     0.387      271.5   \n",
       "1    Venus  181.2    224.701  1.60213  131.6  0.0068     0.723      151.1   \n",
       "2    Earth  100.0    365.256  0.98561  102.9  0.0167     1.000      191.8   \n",
       "3     Mars  355.2    686.980  0.52403  336.1  0.0934     1.520      261.0   \n",
       "4  Jupiter   34.3   4332.590  0.08308   14.3  0.0485     5.200      283.5   \n",
       "5   Saturn   50.1  10759.200  0.03346   93.1  0.0555     9.550      295.4   \n",
       "\n",
       "   θ0(◦) mean anomoly  \n",
       "0               199.7  \n",
       "1                19.0  \n",
       "2                86.7  \n",
       "3               -65.2  \n",
       "4               274.5  \n",
       "5               204.5  "
      ]
     },
     "execution_count": 19,
     "metadata": {},
     "output_type": "execute_result"
    }
   ],
   "source": [
    "# θ0(◦) mean anomoly for Mars should be 294.8\n",
    "df "
   ]
  },
  {
   "cell_type": "markdown",
   "metadata": {},
   "source": [
    "### Convert Heliocentric into Geocentric longitude"
   ]
  },
  {
   "cell_type": "markdown",
   "metadata": {},
   "source": [
    "1. Calculate radii, r, of planet's orbit around the sun, for that epoch, giving their positions in polar form ((r, λ)"
   ]
  },
  {
   "cell_type": "markdown",
   "metadata": {},
   "source": [
    "### r A.U. formula is slightly off, 0.463 for mercury"
   ]
  },
  {
   "cell_type": "code",
   "execution_count": 76,
   "metadata": {},
   "outputs": [],
   "source": [
    "def helio_to_geo_long(df):\n",
    "    r = df['a (A.U.)']*(1-(df['e']**2))/1+(df['e']*(math.cos(df['θ mean anomoly'])))\n",
    "    return r"
   ]
  },
  {
   "cell_type": "code",
   "execution_count": 77,
   "metadata": {},
   "outputs": [],
   "source": [
    "df['r(A.U)'] = df.apply(helio_to_geo_long,axis=1)"
   ]
  },
  {
   "cell_type": "code",
   "execution_count": 78,
   "metadata": {},
   "outputs": [
    {
     "data": {
      "text/html": [
       "<div>\n",
       "<style scoped>\n",
       "    .dataframe tbody tr th:only-of-type {\n",
       "        vertical-align: middle;\n",
       "    }\n",
       "\n",
       "    .dataframe tbody tr th {\n",
       "        vertical-align: top;\n",
       "    }\n",
       "\n",
       "    .dataframe thead th {\n",
       "        text-align: right;\n",
       "    }\n",
       "</style>\n",
       "<table border=\"1\" class=\"dataframe\">\n",
       "  <thead>\n",
       "    <tr style=\"text-align: right;\">\n",
       "      <th></th>\n",
       "      <th>Planet</th>\n",
       "      <th>λi</th>\n",
       "      <th>T_(Days)</th>\n",
       "      <th>ω0</th>\n",
       "      <th>λp</th>\n",
       "      <th>e</th>\n",
       "      <th>a (A.U.)</th>\n",
       "      <th>λ (helio)</th>\n",
       "      <th>θ mean anomoly</th>\n",
       "      <th>r(A.U)</th>\n",
       "      <th>x0</th>\n",
       "      <th>y0</th>\n",
       "      <th>xG</th>\n",
       "      <th>yG</th>\n",
       "      <th>rG</th>\n",
       "      <th>λg</th>\n",
       "    </tr>\n",
       "  </thead>\n",
       "  <tbody>\n",
       "    <tr>\n",
       "      <th>0</th>\n",
       "      <td>Mercury</td>\n",
       "      <td>250.2</td>\n",
       "      <td>87.969</td>\n",
       "      <td>4.09235</td>\n",
       "      <td>77.5</td>\n",
       "      <td>0.2056</td>\n",
       "      <td>0.387</td>\n",
       "      <td>271.5</td>\n",
       "      <td>199.72</td>\n",
       "      <td>0.417286</td>\n",
       "      <td>0.102334</td>\n",
       "      <td>0.404544</td>\n",
       "      <td>-1.093322</td>\n",
       "      <td>-0.567366</td>\n",
       "      <td>1.231770</td>\n",
       "      <td>27.742412</td>\n",
       "    </tr>\n",
       "    <tr>\n",
       "      <th>1</th>\n",
       "      <td>Venus</td>\n",
       "      <td>181.2</td>\n",
       "      <td>224.701</td>\n",
       "      <td>1.60213</td>\n",
       "      <td>131.6</td>\n",
       "      <td>0.0068</td>\n",
       "      <td>0.723</td>\n",
       "      <td>151.1</td>\n",
       "      <td>18.95</td>\n",
       "      <td>0.729732</td>\n",
       "      <td>0.696369</td>\n",
       "      <td>0.218126</td>\n",
       "      <td>-1.687358</td>\n",
       "      <td>-0.380948</td>\n",
       "      <td>1.729826</td>\n",
       "      <td>52.567499</td>\n",
       "    </tr>\n",
       "    <tr>\n",
       "      <th>2</th>\n",
       "      <td>Earth</td>\n",
       "      <td>100.0</td>\n",
       "      <td>365.256</td>\n",
       "      <td>0.98561</td>\n",
       "      <td>102.9</td>\n",
       "      <td>0.0167</td>\n",
       "      <td>1.000</td>\n",
       "      <td>191.8</td>\n",
       "      <td>86.67</td>\n",
       "      <td>1.004275</td>\n",
       "      <td>-0.990988</td>\n",
       "      <td>-0.162822</td>\n",
       "      <td>0.000000</td>\n",
       "      <td>0.000000</td>\n",
       "      <td>0.000000</td>\n",
       "      <td>0.000000</td>\n",
       "    </tr>\n",
       "    <tr>\n",
       "      <th>3</th>\n",
       "      <td>Mars</td>\n",
       "      <td>355.2</td>\n",
       "      <td>686.980</td>\n",
       "      <td>0.52403</td>\n",
       "      <td>336.1</td>\n",
       "      <td>0.0934</td>\n",
       "      <td>1.520</td>\n",
       "      <td>261.0</td>\n",
       "      <td>-65.17</td>\n",
       "      <td>1.441899</td>\n",
       "      <td>-1.397852</td>\n",
       "      <td>-0.353671</td>\n",
       "      <td>0.406864</td>\n",
       "      <td>0.190848</td>\n",
       "      <td>0.449401</td>\n",
       "      <td>-12.189474</td>\n",
       "    </tr>\n",
       "    <tr>\n",
       "      <th>4</th>\n",
       "      <td>Jupiter</td>\n",
       "      <td>34.3</td>\n",
       "      <td>4332.590</td>\n",
       "      <td>0.08308</td>\n",
       "      <td>14.3</td>\n",
       "      <td>0.0485</td>\n",
       "      <td>5.200</td>\n",
       "      <td>283.5</td>\n",
       "      <td>274.46</td>\n",
       "      <td>5.167578</td>\n",
       "      <td>3.757512</td>\n",
       "      <td>3.547530</td>\n",
       "      <td>-4.748501</td>\n",
       "      <td>-3.710352</td>\n",
       "      <td>6.026190</td>\n",
       "      <td>46.072292</td>\n",
       "    </tr>\n",
       "    <tr>\n",
       "      <th>5</th>\n",
       "      <td>Saturn</td>\n",
       "      <td>50.1</td>\n",
       "      <td>10759.200</td>\n",
       "      <td>0.03346</td>\n",
       "      <td>93.1</td>\n",
       "      <td>0.0555</td>\n",
       "      <td>9.550</td>\n",
       "      <td>295.4</td>\n",
       "      <td>204.47</td>\n",
       "      <td>9.467043</td>\n",
       "      <td>9.428479</td>\n",
       "      <td>0.853624</td>\n",
       "      <td>-10.419467</td>\n",
       "      <td>-1.016446</td>\n",
       "      <td>10.468929</td>\n",
       "      <td>83.929480</td>\n",
       "    </tr>\n",
       "  </tbody>\n",
       "</table>\n",
       "</div>"
      ],
      "text/plain": [
       "    Planet     λi   T_(Days)       ω0     λp       e  a (A.U.)  λ (helio)  \\\n",
       "0  Mercury  250.2     87.969  4.09235   77.5  0.2056     0.387      271.5   \n",
       "1    Venus  181.2    224.701  1.60213  131.6  0.0068     0.723      151.1   \n",
       "2    Earth  100.0    365.256  0.98561  102.9  0.0167     1.000      191.8   \n",
       "3     Mars  355.2    686.980  0.52403  336.1  0.0934     1.520      261.0   \n",
       "4  Jupiter   34.3   4332.590  0.08308   14.3  0.0485     5.200      283.5   \n",
       "5   Saturn   50.1  10759.200  0.03346   93.1  0.0555     9.550      295.4   \n",
       "\n",
       "   θ mean anomoly    r(A.U)        x0        y0         xG        yG  \\\n",
       "0          199.72  0.417286  0.102334  0.404544  -1.093322 -0.567366   \n",
       "1           18.95  0.729732  0.696369  0.218126  -1.687358 -0.380948   \n",
       "2           86.67  1.004275 -0.990988 -0.162822   0.000000  0.000000   \n",
       "3          -65.17  1.441899 -1.397852 -0.353671   0.406864  0.190848   \n",
       "4          274.46  5.167578  3.757512  3.547530  -4.748501 -3.710352   \n",
       "5          204.47  9.467043  9.428479  0.853624 -10.419467 -1.016446   \n",
       "\n",
       "          rG         λg  \n",
       "0   1.231770  27.742412  \n",
       "1   1.729826  52.567499  \n",
       "2   0.000000   0.000000  \n",
       "3   0.449401 -12.189474  \n",
       "4   6.026190  46.072292  \n",
       "5  10.468929  83.929480  "
      ]
     },
     "execution_count": 78,
     "metadata": {},
     "output_type": "execute_result"
    }
   ],
   "source": [
    "# Distance r(A.U) from planet to sun is slightly off, should be 0.463 for Mercury, 0.999 for Earth\n",
    "df"
   ]
  },
  {
   "cell_type": "code",
   "execution_count": 20,
   "metadata": {},
   "outputs": [
    {
     "data": {
      "text/plain": [
       "Index(['Planet', 'λi', 'T_(Days)', 'ω0', 'λp', 'e', 'a (A.U.)', 'λ (helio)',\n",
       "       'θ mean anomoly', 'r(A.U)'],\n",
       "      dtype='object')"
      ]
     },
     "execution_count": 20,
     "metadata": {},
     "output_type": "execute_result"
    }
   ],
   "source": [
    "df.columns"
   ]
  },
  {
   "cell_type": "code",
   "execution_count": 94,
   "metadata": {},
   "outputs": [
    {
     "data": {
      "text/plain": [
       "0.012119927066545253"
      ]
     },
     "execution_count": 94,
     "metadata": {},
     "output_type": "execute_result"
    }
   ],
   "source": [
    "# round to 3 decimal place\n",
    "# mercury\n",
    "# Xh=rcos(λ) =0.012 A.U.\n",
    "# Yh=rsin(λ) =−0.463 A.U\n",
    "0.463 * math.cos(math.radians(271.5))"
   ]
  },
  {
   "cell_type": "code",
   "execution_count": 91,
   "metadata": {},
   "outputs": [
    {
     "data": {
      "text/plain": [
       "-0.46284134146368305"
      ]
     },
     "execution_count": 91,
     "metadata": {},
     "output_type": "execute_result"
    }
   ],
   "source": [
    "# -0.463\n",
    "0.463 * math.sin(math.radians(271.5))"
   ]
  },
  {
   "cell_type": "code",
   "execution_count": 95,
   "metadata": {},
   "outputs": [
    {
     "data": {
      "text/plain": [
       "-0.9778885213729233"
      ]
     },
     "execution_count": 95,
     "metadata": {},
     "output_type": "execute_result"
    }
   ],
   "source": [
    "# X0=−0.978 A.U.\n",
    "# Y0=−0.204 A.U.\n",
    "# earth\n",
    "0.999 * math.cos(math.radians(191.8))"
   ]
  },
  {
   "cell_type": "code",
   "execution_count": 96,
   "metadata": {},
   "outputs": [
    {
     "data": {
      "text/plain": [
       "-0.2042915557899485"
      ]
     },
     "execution_count": 96,
     "metadata": {},
     "output_type": "execute_result"
    }
   ],
   "source": [
    "0.999 * math.sin(math.radians(191.8))"
   ]
  },
  {
   "cell_type": "markdown",
   "metadata": {},
   "source": [
    "### xH, yH planet coordinates, x0, y0 earth coordinates"
   ]
  },
  {
   "cell_type": "code",
   "execution_count": 120,
   "metadata": {},
   "outputs": [],
   "source": [
    "df['Xh'] = df.apply(lambda x: x['r(A.U)'] * math.cos(math.radians(x['λ (helio)'])),axis=1)\n",
    "df['Yh'] = df.apply(lambda x: x['r(A.U)'] * math.sin(math.radians(x['λ (helio)'])),axis=1)"
   ]
  },
  {
   "cell_type": "code",
   "execution_count": 109,
   "metadata": {},
   "outputs": [],
   "source": [
    "x0 = df.loc[df.Planet == 'Earth', \"Xh\"].iloc[0]\n",
    "y0 = df.loc[df.Planet == 'Earth', \"Yh\"].iloc[0]"
   ]
  },
  {
   "cell_type": "code",
   "execution_count": 110,
   "metadata": {},
   "outputs": [
    {
     "name": "stdout",
     "output_type": "stream",
     "text": [
      "x0:  -0.9830523014860716  y0:  -0.2053703256599447\n"
     ]
    }
   ],
   "source": [
    "print(\"x0: \",x0, \" y0: \",y0 )"
   ]
  },
  {
   "cell_type": "code",
   "execution_count": 111,
   "metadata": {},
   "outputs": [],
   "source": [
    "df['xG'] = df['Xh'] - x0\n",
    "df['yG'] = df['Yh'] - y0\n",
    "\n",
    "# df['yG'] = df.apply(lambda x: df.loc[df.Planet == 'Earth', \"x0\"].iloc[0]"
   ]
  },
  {
   "cell_type": "code",
   "execution_count": 121,
   "metadata": {},
   "outputs": [
    {
     "data": {
      "text/html": [
       "<div>\n",
       "<style scoped>\n",
       "    .dataframe tbody tr th:only-of-type {\n",
       "        vertical-align: middle;\n",
       "    }\n",
       "\n",
       "    .dataframe tbody tr th {\n",
       "        vertical-align: top;\n",
       "    }\n",
       "\n",
       "    .dataframe thead th {\n",
       "        text-align: right;\n",
       "    }\n",
       "</style>\n",
       "<table border=\"1\" class=\"dataframe\">\n",
       "  <thead>\n",
       "    <tr style=\"text-align: right;\">\n",
       "      <th></th>\n",
       "      <th>Planet</th>\n",
       "      <th>λi</th>\n",
       "      <th>T_(Days)</th>\n",
       "      <th>ω0</th>\n",
       "      <th>λp</th>\n",
       "      <th>e</th>\n",
       "      <th>a (A.U.)</th>\n",
       "      <th>λ (helio)</th>\n",
       "      <th>θ mean anomoly</th>\n",
       "      <th>r(A.U)</th>\n",
       "      <th>xG</th>\n",
       "      <th>yG</th>\n",
       "      <th>rG</th>\n",
       "      <th>λg</th>\n",
       "      <th>Xh</th>\n",
       "      <th>Yh</th>\n",
       "    </tr>\n",
       "  </thead>\n",
       "  <tbody>\n",
       "    <tr>\n",
       "      <th>0</th>\n",
       "      <td>Mercury</td>\n",
       "      <td>250.2</td>\n",
       "      <td>87.969</td>\n",
       "      <td>4.09235</td>\n",
       "      <td>77.5</td>\n",
       "      <td>0.2056</td>\n",
       "      <td>0.387</td>\n",
       "      <td>271.5</td>\n",
       "      <td>199.72</td>\n",
       "      <td>0.417286</td>\n",
       "      <td>0.993976</td>\n",
       "      <td>-0.211773</td>\n",
       "      <td>1.016285</td>\n",
       "      <td>-0.021041</td>\n",
       "      <td>0.010923</td>\n",
       "      <td>-0.417143</td>\n",
       "    </tr>\n",
       "    <tr>\n",
       "      <th>1</th>\n",
       "      <td>Venus</td>\n",
       "      <td>181.2</td>\n",
       "      <td>224.701</td>\n",
       "      <td>1.60213</td>\n",
       "      <td>131.6</td>\n",
       "      <td>0.0068</td>\n",
       "      <td>0.723</td>\n",
       "      <td>151.1</td>\n",
       "      <td>18.95</td>\n",
       "      <td>0.729732</td>\n",
       "      <td>0.344198</td>\n",
       "      <td>0.558037</td>\n",
       "      <td>0.655650</td>\n",
       "      <td>0.003732</td>\n",
       "      <td>-0.638855</td>\n",
       "      <td>0.352667</td>\n",
       "    </tr>\n",
       "    <tr>\n",
       "      <th>2</th>\n",
       "      <td>Earth</td>\n",
       "      <td>100.0</td>\n",
       "      <td>365.256</td>\n",
       "      <td>0.98561</td>\n",
       "      <td>102.9</td>\n",
       "      <td>0.0167</td>\n",
       "      <td>1.000</td>\n",
       "      <td>191.8</td>\n",
       "      <td>86.67</td>\n",
       "      <td>1.004275</td>\n",
       "      <td>0.000000</td>\n",
       "      <td>0.000000</td>\n",
       "      <td>0.000000</td>\n",
       "      <td>0.000000</td>\n",
       "      <td>-0.983052</td>\n",
       "      <td>-0.205370</td>\n",
       "    </tr>\n",
       "    <tr>\n",
       "      <th>3</th>\n",
       "      <td>Mars</td>\n",
       "      <td>355.2</td>\n",
       "      <td>686.980</td>\n",
       "      <td>0.52403</td>\n",
       "      <td>336.1</td>\n",
       "      <td>0.0934</td>\n",
       "      <td>1.520</td>\n",
       "      <td>261.0</td>\n",
       "      <td>-65.17</td>\n",
       "      <td>1.441899</td>\n",
       "      <td>0.757490</td>\n",
       "      <td>-1.218777</td>\n",
       "      <td>1.434994</td>\n",
       "      <td>-0.034479</td>\n",
       "      <td>-0.225563</td>\n",
       "      <td>-1.424147</td>\n",
       "    </tr>\n",
       "    <tr>\n",
       "      <th>4</th>\n",
       "      <td>Jupiter</td>\n",
       "      <td>34.3</td>\n",
       "      <td>4332.590</td>\n",
       "      <td>0.08308</td>\n",
       "      <td>14.3</td>\n",
       "      <td>0.0485</td>\n",
       "      <td>5.200</td>\n",
       "      <td>283.5</td>\n",
       "      <td>274.46</td>\n",
       "      <td>5.167578</td>\n",
       "      <td>2.189400</td>\n",
       "      <td>-4.819427</td>\n",
       "      <td>5.293425</td>\n",
       "      <td>-0.121722</td>\n",
       "      <td>1.206347</td>\n",
       "      <td>-5.024798</td>\n",
       "    </tr>\n",
       "    <tr>\n",
       "      <th>5</th>\n",
       "      <td>Saturn</td>\n",
       "      <td>50.1</td>\n",
       "      <td>10759.200</td>\n",
       "      <td>0.03346</td>\n",
       "      <td>93.1</td>\n",
       "      <td>0.0555</td>\n",
       "      <td>9.550</td>\n",
       "      <td>295.4</td>\n",
       "      <td>204.47</td>\n",
       "      <td>9.467043</td>\n",
       "      <td>5.043799</td>\n",
       "      <td>-8.346543</td>\n",
       "      <td>9.752164</td>\n",
       "      <td>-0.229585</td>\n",
       "      <td>4.060747</td>\n",
       "      <td>-8.551914</td>\n",
       "    </tr>\n",
       "  </tbody>\n",
       "</table>\n",
       "</div>"
      ],
      "text/plain": [
       "    Planet     λi   T_(Days)       ω0     λp       e  a (A.U.)  λ (helio)  \\\n",
       "0  Mercury  250.2     87.969  4.09235   77.5  0.2056     0.387      271.5   \n",
       "1    Venus  181.2    224.701  1.60213  131.6  0.0068     0.723      151.1   \n",
       "2    Earth  100.0    365.256  0.98561  102.9  0.0167     1.000      191.8   \n",
       "3     Mars  355.2    686.980  0.52403  336.1  0.0934     1.520      261.0   \n",
       "4  Jupiter   34.3   4332.590  0.08308   14.3  0.0485     5.200      283.5   \n",
       "5   Saturn   50.1  10759.200  0.03346   93.1  0.0555     9.550      295.4   \n",
       "\n",
       "   θ mean anomoly    r(A.U)        xG        yG        rG        λg        Xh  \\\n",
       "0          199.72  0.417286  0.993976 -0.211773  1.016285 -0.021041  0.010923   \n",
       "1           18.95  0.729732  0.344198  0.558037  0.655650  0.003732 -0.638855   \n",
       "2           86.67  1.004275  0.000000  0.000000  0.000000  0.000000 -0.983052   \n",
       "3          -65.17  1.441899  0.757490 -1.218777  1.434994 -0.034479 -0.225563   \n",
       "4          274.46  5.167578  2.189400 -4.819427  5.293425 -0.121722  1.206347   \n",
       "5          204.47  9.467043  5.043799 -8.346543  9.752164 -0.229585  4.060747   \n",
       "\n",
       "         Yh  \n",
       "0 -0.417143  \n",
       "1  0.352667  \n",
       "2 -0.205370  \n",
       "3 -1.424147  \n",
       "4 -5.024798  \n",
       "5 -8.551914  "
      ]
     },
     "execution_count": 121,
     "metadata": {},
     "output_type": "execute_result"
    }
   ],
   "source": [
    "df"
   ]
  },
  {
   "cell_type": "code",
   "execution_count": null,
   "metadata": {},
   "outputs": [],
   "source": [
    "0.993976\n",
    "\n",
    "-0.211773 \n",
    "\n",
    "\n"
   ]
  },
  {
   "cell_type": "markdown",
   "metadata": {},
   "source": [
    "### xG, yG Subtract Earth "
   ]
  },
  {
   "cell_type": "code",
   "execution_count": 143,
   "metadata": {},
   "outputs": [],
   "source": [
    "df['rG (A.U.)'] = df.apply(lambda x: math.sqrt((x['xG']**2) + (x['yG']**2)), axis=1)"
   ]
  },
  {
   "cell_type": "code",
   "execution_count": 147,
   "metadata": {},
   "outputs": [
    {
     "data": {
      "text/plain": [
       "0    1.016285\n",
       "1    0.655650\n",
       "2    0.000000\n",
       "3    1.434994\n",
       "4    5.293425\n",
       "5    9.752164\n",
       "dtype: float64"
      ]
     },
     "execution_count": 147,
     "metadata": {},
     "output_type": "execute_result"
    }
   ],
   "source": [
    "df.apply(lambda x: math.sqrt((x['xG']**2) + (x['yG']**2)), axis=1)"
   ]
  },
  {
   "cell_type": "code",
   "execution_count": 144,
   "metadata": {},
   "outputs": [
    {
     "data": {
      "text/html": [
       "<div>\n",
       "<style scoped>\n",
       "    .dataframe tbody tr th:only-of-type {\n",
       "        vertical-align: middle;\n",
       "    }\n",
       "\n",
       "    .dataframe tbody tr th {\n",
       "        vertical-align: top;\n",
       "    }\n",
       "\n",
       "    .dataframe thead th {\n",
       "        text-align: right;\n",
       "    }\n",
       "</style>\n",
       "<table border=\"1\" class=\"dataframe\">\n",
       "  <thead>\n",
       "    <tr style=\"text-align: right;\">\n",
       "      <th></th>\n",
       "      <th>Planet</th>\n",
       "      <th>λi</th>\n",
       "      <th>T_(Days)</th>\n",
       "      <th>ω0</th>\n",
       "      <th>λp</th>\n",
       "      <th>e</th>\n",
       "      <th>a (A.U.)</th>\n",
       "      <th>λ (helio)</th>\n",
       "      <th>θ mean anomoly</th>\n",
       "      <th>r(A.U)</th>\n",
       "      <th>xG</th>\n",
       "      <th>yG</th>\n",
       "      <th>rG</th>\n",
       "      <th>λg</th>\n",
       "      <th>Xh</th>\n",
       "      <th>Yh</th>\n",
       "      <th>rG (A.U.)</th>\n",
       "    </tr>\n",
       "  </thead>\n",
       "  <tbody>\n",
       "    <tr>\n",
       "      <th>0</th>\n",
       "      <td>Mercury</td>\n",
       "      <td>250.2</td>\n",
       "      <td>87.969</td>\n",
       "      <td>4.09235</td>\n",
       "      <td>77.5</td>\n",
       "      <td>0.2056</td>\n",
       "      <td>0.387</td>\n",
       "      <td>271.5</td>\n",
       "      <td>199.72</td>\n",
       "      <td>0.417286</td>\n",
       "      <td>0.993976</td>\n",
       "      <td>-0.211773</td>\n",
       "      <td>1.016285</td>\n",
       "      <td>-0.878407</td>\n",
       "      <td>0.010923</td>\n",
       "      <td>-0.417143</td>\n",
       "      <td>1.016285</td>\n",
       "    </tr>\n",
       "    <tr>\n",
       "      <th>1</th>\n",
       "      <td>Venus</td>\n",
       "      <td>181.2</td>\n",
       "      <td>224.701</td>\n",
       "      <td>1.60213</td>\n",
       "      <td>131.6</td>\n",
       "      <td>0.0068</td>\n",
       "      <td>0.723</td>\n",
       "      <td>151.1</td>\n",
       "      <td>18.95</td>\n",
       "      <td>0.729732</td>\n",
       "      <td>0.344198</td>\n",
       "      <td>0.558037</td>\n",
       "      <td>0.655650</td>\n",
       "      <td>0.210667</td>\n",
       "      <td>-0.638855</td>\n",
       "      <td>0.352667</td>\n",
       "      <td>0.655650</td>\n",
       "    </tr>\n",
       "    <tr>\n",
       "      <th>2</th>\n",
       "      <td>Earth</td>\n",
       "      <td>100.0</td>\n",
       "      <td>365.256</td>\n",
       "      <td>0.98561</td>\n",
       "      <td>102.9</td>\n",
       "      <td>0.0167</td>\n",
       "      <td>1.000</td>\n",
       "      <td>191.8</td>\n",
       "      <td>86.67</td>\n",
       "      <td>1.004275</td>\n",
       "      <td>0.000000</td>\n",
       "      <td>0.000000</td>\n",
       "      <td>0.000000</td>\n",
       "      <td>0.000000</td>\n",
       "      <td>-0.983052</td>\n",
       "      <td>-0.205370</td>\n",
       "      <td>0.000000</td>\n",
       "    </tr>\n",
       "    <tr>\n",
       "      <th>3</th>\n",
       "      <td>Mars</td>\n",
       "      <td>355.2</td>\n",
       "      <td>686.980</td>\n",
       "      <td>0.52403</td>\n",
       "      <td>336.1</td>\n",
       "      <td>0.0934</td>\n",
       "      <td>1.520</td>\n",
       "      <td>261.0</td>\n",
       "      <td>-65.17</td>\n",
       "      <td>1.441899</td>\n",
       "      <td>0.757490</td>\n",
       "      <td>-1.218777</td>\n",
       "      <td>1.434994</td>\n",
       "      <td>-1.102356</td>\n",
       "      <td>-0.225563</td>\n",
       "      <td>-1.424147</td>\n",
       "      <td>1.434994</td>\n",
       "    </tr>\n",
       "    <tr>\n",
       "      <th>4</th>\n",
       "      <td>Jupiter</td>\n",
       "      <td>34.3</td>\n",
       "      <td>4332.590</td>\n",
       "      <td>0.08308</td>\n",
       "      <td>14.3</td>\n",
       "      <td>0.0485</td>\n",
       "      <td>5.200</td>\n",
       "      <td>283.5</td>\n",
       "      <td>274.46</td>\n",
       "      <td>5.167578</td>\n",
       "      <td>2.189400</td>\n",
       "      <td>-4.819427</td>\n",
       "      <td>5.293425</td>\n",
       "      <td>-1.429076</td>\n",
       "      <td>1.206347</td>\n",
       "      <td>-5.024798</td>\n",
       "      <td>5.293425</td>\n",
       "    </tr>\n",
       "    <tr>\n",
       "      <th>5</th>\n",
       "      <td>Saturn</td>\n",
       "      <td>50.1</td>\n",
       "      <td>10759.200</td>\n",
       "      <td>0.03346</td>\n",
       "      <td>93.1</td>\n",
       "      <td>0.0555</td>\n",
       "      <td>9.550</td>\n",
       "      <td>295.4</td>\n",
       "      <td>204.47</td>\n",
       "      <td>9.467043</td>\n",
       "      <td>5.043799</td>\n",
       "      <td>-8.346543</td>\n",
       "      <td>9.752164</td>\n",
       "      <td>-1.496254</td>\n",
       "      <td>4.060747</td>\n",
       "      <td>-8.551914</td>\n",
       "      <td>9.752164</td>\n",
       "    </tr>\n",
       "  </tbody>\n",
       "</table>\n",
       "</div>"
      ],
      "text/plain": [
       "    Planet     λi   T_(Days)       ω0     λp       e  a (A.U.)  λ (helio)  \\\n",
       "0  Mercury  250.2     87.969  4.09235   77.5  0.2056     0.387      271.5   \n",
       "1    Venus  181.2    224.701  1.60213  131.6  0.0068     0.723      151.1   \n",
       "2    Earth  100.0    365.256  0.98561  102.9  0.0167     1.000      191.8   \n",
       "3     Mars  355.2    686.980  0.52403  336.1  0.0934     1.520      261.0   \n",
       "4  Jupiter   34.3   4332.590  0.08308   14.3  0.0485     5.200      283.5   \n",
       "5   Saturn   50.1  10759.200  0.03346   93.1  0.0555     9.550      295.4   \n",
       "\n",
       "   θ mean anomoly    r(A.U)        xG        yG        rG        λg        Xh  \\\n",
       "0          199.72  0.417286  0.993976 -0.211773  1.016285 -0.878407  0.010923   \n",
       "1           18.95  0.729732  0.344198  0.558037  0.655650  0.210667 -0.638855   \n",
       "2           86.67  1.004275  0.000000  0.000000  0.000000  0.000000 -0.983052   \n",
       "3          -65.17  1.441899  0.757490 -1.218777  1.434994 -1.102356 -0.225563   \n",
       "4          274.46  5.167578  2.189400 -4.819427  5.293425 -1.429076  1.206347   \n",
       "5          204.47  9.467043  5.043799 -8.346543  9.752164 -1.496254  4.060747   \n",
       "\n",
       "         Yh  rG (A.U.)  \n",
       "0 -0.417143   1.016285  \n",
       "1  0.352667   0.655650  \n",
       "2 -0.205370   0.000000  \n",
       "3 -1.424147   1.434994  \n",
       "4 -5.024798   5.293425  \n",
       "5 -8.551914   9.752164  "
      ]
     },
     "execution_count": 144,
     "metadata": {},
     "output_type": "execute_result"
    }
   ],
   "source": [
    "df"
   ]
  },
  {
   "cell_type": "code",
   "execution_count": 145,
   "metadata": {},
   "outputs": [],
   "source": [
    "df2 = df[['Planet','λi','a (A.U.)','λ (helio)', 'θ mean anomoly', 'r(A.U)','rG (A.U.)']]"
   ]
  },
  {
   "cell_type": "code",
   "execution_count": 150,
   "metadata": {},
   "outputs": [
    {
     "data": {
      "text/html": [
       "<div>\n",
       "<style scoped>\n",
       "    .dataframe tbody tr th:only-of-type {\n",
       "        vertical-align: middle;\n",
       "    }\n",
       "\n",
       "    .dataframe tbody tr th {\n",
       "        vertical-align: top;\n",
       "    }\n",
       "\n",
       "    .dataframe thead th {\n",
       "        text-align: right;\n",
       "    }\n",
       "</style>\n",
       "<table border=\"1\" class=\"dataframe\">\n",
       "  <thead>\n",
       "    <tr style=\"text-align: right;\">\n",
       "      <th></th>\n",
       "      <th>Planet</th>\n",
       "      <th>λi</th>\n",
       "      <th>a (A.U.)</th>\n",
       "      <th>λ (helio)</th>\n",
       "      <th>θ mean anomoly</th>\n",
       "      <th>r(A.U)</th>\n",
       "      <th>rG (A.U.)</th>\n",
       "      <th>λg</th>\n",
       "    </tr>\n",
       "  </thead>\n",
       "  <tbody>\n",
       "    <tr>\n",
       "      <th>0</th>\n",
       "      <td>Mercury</td>\n",
       "      <td>250.2</td>\n",
       "      <td>0.387</td>\n",
       "      <td>271.5</td>\n",
       "      <td>199.72</td>\n",
       "      <td>0.417286</td>\n",
       "      <td>1.016285</td>\n",
       "      <td>-0.878407</td>\n",
       "    </tr>\n",
       "    <tr>\n",
       "      <th>1</th>\n",
       "      <td>Venus</td>\n",
       "      <td>181.2</td>\n",
       "      <td>0.723</td>\n",
       "      <td>151.1</td>\n",
       "      <td>18.95</td>\n",
       "      <td>0.729732</td>\n",
       "      <td>0.655650</td>\n",
       "      <td>0.210667</td>\n",
       "    </tr>\n",
       "    <tr>\n",
       "      <th>2</th>\n",
       "      <td>Earth</td>\n",
       "      <td>100.0</td>\n",
       "      <td>1.000</td>\n",
       "      <td>191.8</td>\n",
       "      <td>86.67</td>\n",
       "      <td>1.004275</td>\n",
       "      <td>0.000000</td>\n",
       "      <td>0.000000</td>\n",
       "    </tr>\n",
       "    <tr>\n",
       "      <th>3</th>\n",
       "      <td>Mars</td>\n",
       "      <td>355.2</td>\n",
       "      <td>1.520</td>\n",
       "      <td>261.0</td>\n",
       "      <td>-65.17</td>\n",
       "      <td>1.441899</td>\n",
       "      <td>1.434994</td>\n",
       "      <td>-1.102356</td>\n",
       "    </tr>\n",
       "    <tr>\n",
       "      <th>4</th>\n",
       "      <td>Jupiter</td>\n",
       "      <td>34.3</td>\n",
       "      <td>5.200</td>\n",
       "      <td>283.5</td>\n",
       "      <td>274.46</td>\n",
       "      <td>5.167578</td>\n",
       "      <td>5.293425</td>\n",
       "      <td>-1.429076</td>\n",
       "    </tr>\n",
       "    <tr>\n",
       "      <th>5</th>\n",
       "      <td>Saturn</td>\n",
       "      <td>50.1</td>\n",
       "      <td>9.550</td>\n",
       "      <td>295.4</td>\n",
       "      <td>204.47</td>\n",
       "      <td>9.467043</td>\n",
       "      <td>9.752164</td>\n",
       "      <td>-1.496254</td>\n",
       "    </tr>\n",
       "  </tbody>\n",
       "</table>\n",
       "</div>"
      ],
      "text/plain": [
       "    Planet     λi  a (A.U.)  λ (helio)  θ mean anomoly    r(A.U)  rG (A.U.)  \\\n",
       "0  Mercury  250.2     0.387      271.5          199.72  0.417286   1.016285   \n",
       "1    Venus  181.2     0.723      151.1           18.95  0.729732   0.655650   \n",
       "2    Earth  100.0     1.000      191.8           86.67  1.004275   0.000000   \n",
       "3     Mars  355.2     1.520      261.0          -65.17  1.441899   1.434994   \n",
       "4  Jupiter   34.3     5.200      283.5          274.46  5.167578   5.293425   \n",
       "5   Saturn   50.1     9.550      295.4          204.47  9.467043   9.752164   \n",
       "\n",
       "         λg  \n",
       "0 -0.878407  \n",
       "1  0.210667  \n",
       "2  0.000000  \n",
       "3 -1.102356  \n",
       "4 -1.429076  \n",
       "5 -1.496254  "
      ]
     },
     "execution_count": 150,
     "metadata": {},
     "output_type": "execute_result"
    }
   ],
   "source": [
    "df2"
   ]
  },
  {
   "cell_type": "code",
   "execution_count": 163,
   "metadata": {},
   "outputs": [
    {
     "name": "stderr",
     "output_type": "stream",
     "text": [
      "/home/linda/anaconda3/lib/python3.7/site-packages/ipykernel_launcher.py:3: SettingWithCopyWarning: \n",
      "A value is trying to be set on a copy of a slice from a DataFrame.\n",
      "Try using .loc[row_indexer,col_indexer] = value instead\n",
      "\n",
      "See the caveats in the documentation: http://pandas.pydata.org/pandas-docs/stable/user_guide/indexing.html#returning-a-view-versus-a-copy\n",
      "  This is separate from the ipykernel package so we can avoid doing imports until\n"
     ]
    }
   ],
   "source": [
    "#math.atan = inverse tan (tan^-1)\n",
    "# 345.3 for Mercury\n",
    "df2['λg'] = df.apply(lambda x: math.degrees(math.atan(x['yG']-x['xG'])), axis=1)"
   ]
  },
  {
   "cell_type": "code",
   "execution_count": null,
   "metadata": {},
   "outputs": [],
   "source": []
  },
  {
   "cell_type": "code",
   "execution_count": 164,
   "metadata": {},
   "outputs": [
    {
     "data": {
      "text/html": [
       "<div>\n",
       "<style scoped>\n",
       "    .dataframe tbody tr th:only-of-type {\n",
       "        vertical-align: middle;\n",
       "    }\n",
       "\n",
       "    .dataframe tbody tr th {\n",
       "        vertical-align: top;\n",
       "    }\n",
       "\n",
       "    .dataframe thead th {\n",
       "        text-align: right;\n",
       "    }\n",
       "</style>\n",
       "<table border=\"1\" class=\"dataframe\">\n",
       "  <thead>\n",
       "    <tr style=\"text-align: right;\">\n",
       "      <th></th>\n",
       "      <th>Planet</th>\n",
       "      <th>λi</th>\n",
       "      <th>a (A.U.)</th>\n",
       "      <th>λ (helio)</th>\n",
       "      <th>θ mean anomoly</th>\n",
       "      <th>r(A.U)</th>\n",
       "      <th>rG (A.U.)</th>\n",
       "      <th>λg</th>\n",
       "    </tr>\n",
       "  </thead>\n",
       "  <tbody>\n",
       "    <tr>\n",
       "      <th>0</th>\n",
       "      <td>Mercury</td>\n",
       "      <td>250.2</td>\n",
       "      <td>0.387</td>\n",
       "      <td>271.5</td>\n",
       "      <td>199.72</td>\n",
       "      <td>0.417286</td>\n",
       "      <td>1.016285</td>\n",
       "      <td>-50.329033</td>\n",
       "    </tr>\n",
       "    <tr>\n",
       "      <th>1</th>\n",
       "      <td>Venus</td>\n",
       "      <td>181.2</td>\n",
       "      <td>0.723</td>\n",
       "      <td>151.1</td>\n",
       "      <td>18.95</td>\n",
       "      <td>0.729732</td>\n",
       "      <td>0.655650</td>\n",
       "      <td>12.070312</td>\n",
       "    </tr>\n",
       "    <tr>\n",
       "      <th>2</th>\n",
       "      <td>Earth</td>\n",
       "      <td>100.0</td>\n",
       "      <td>1.000</td>\n",
       "      <td>191.8</td>\n",
       "      <td>86.67</td>\n",
       "      <td>1.004275</td>\n",
       "      <td>0.000000</td>\n",
       "      <td>0.000000</td>\n",
       "    </tr>\n",
       "    <tr>\n",
       "      <th>3</th>\n",
       "      <td>Mars</td>\n",
       "      <td>355.2</td>\n",
       "      <td>1.520</td>\n",
       "      <td>261.0</td>\n",
       "      <td>-65.17</td>\n",
       "      <td>1.441899</td>\n",
       "      <td>1.434994</td>\n",
       "      <td>-63.160374</td>\n",
       "    </tr>\n",
       "    <tr>\n",
       "      <th>4</th>\n",
       "      <td>Jupiter</td>\n",
       "      <td>34.3</td>\n",
       "      <td>5.200</td>\n",
       "      <td>283.5</td>\n",
       "      <td>274.46</td>\n",
       "      <td>5.167578</td>\n",
       "      <td>5.293425</td>\n",
       "      <td>-81.880000</td>\n",
       "    </tr>\n",
       "    <tr>\n",
       "      <th>5</th>\n",
       "      <td>Saturn</td>\n",
       "      <td>50.1</td>\n",
       "      <td>9.550</td>\n",
       "      <td>295.4</td>\n",
       "      <td>204.47</td>\n",
       "      <td>9.467043</td>\n",
       "      <td>9.752164</td>\n",
       "      <td>-85.729040</td>\n",
       "    </tr>\n",
       "  </tbody>\n",
       "</table>\n",
       "</div>"
      ],
      "text/plain": [
       "    Planet     λi  a (A.U.)  λ (helio)  θ mean anomoly    r(A.U)  rG (A.U.)  \\\n",
       "0  Mercury  250.2     0.387      271.5          199.72  0.417286   1.016285   \n",
       "1    Venus  181.2     0.723      151.1           18.95  0.729732   0.655650   \n",
       "2    Earth  100.0     1.000      191.8           86.67  1.004275   0.000000   \n",
       "3     Mars  355.2     1.520      261.0          -65.17  1.441899   1.434994   \n",
       "4  Jupiter   34.3     5.200      283.5          274.46  5.167578   5.293425   \n",
       "5   Saturn   50.1     9.550      295.4          204.47  9.467043   9.752164   \n",
       "\n",
       "          λg  \n",
       "0 -50.329033  \n",
       "1  12.070312  \n",
       "2   0.000000  \n",
       "3 -63.160374  \n",
       "4 -81.880000  \n",
       "5 -85.729040  "
      ]
     },
     "execution_count": 164,
     "metadata": {},
     "output_type": "execute_result"
    }
   ],
   "source": [
    "df2"
   ]
  },
  {
   "cell_type": "code",
   "execution_count": 142,
   "metadata": {},
   "outputs": [
    {
     "data": {
      "text/html": [
       "<div>\n",
       "<style scoped>\n",
       "    .dataframe tbody tr th:only-of-type {\n",
       "        vertical-align: middle;\n",
       "    }\n",
       "\n",
       "    .dataframe tbody tr th {\n",
       "        vertical-align: top;\n",
       "    }\n",
       "\n",
       "    .dataframe thead th {\n",
       "        text-align: right;\n",
       "    }\n",
       "</style>\n",
       "<table border=\"1\" class=\"dataframe\">\n",
       "  <thead>\n",
       "    <tr style=\"text-align: right;\">\n",
       "      <th></th>\n",
       "      <th>Planet</th>\n",
       "      <th>λi</th>\n",
       "      <th>T_(Days)</th>\n",
       "      <th>ω0</th>\n",
       "      <th>λp</th>\n",
       "      <th>e</th>\n",
       "      <th>a (A.U.)</th>\n",
       "      <th>λ (helio)</th>\n",
       "      <th>θ mean anomoly</th>\n",
       "      <th>r(A.U)</th>\n",
       "      <th>xG</th>\n",
       "      <th>yG</th>\n",
       "      <th>rG</th>\n",
       "      <th>λg</th>\n",
       "      <th>Xh</th>\n",
       "      <th>Yh</th>\n",
       "      <th>rG (A.U.)</th>\n",
       "    </tr>\n",
       "  </thead>\n",
       "  <tbody>\n",
       "    <tr>\n",
       "      <th>0</th>\n",
       "      <td>Mercury</td>\n",
       "      <td>250.2</td>\n",
       "      <td>87.969</td>\n",
       "      <td>4.09235</td>\n",
       "      <td>77.5</td>\n",
       "      <td>0.2056</td>\n",
       "      <td>0.387</td>\n",
       "      <td>271.5</td>\n",
       "      <td>199.72</td>\n",
       "      <td>0.417286</td>\n",
       "      <td>0.993976</td>\n",
       "      <td>-0.211773</td>\n",
       "      <td>1.016285</td>\n",
       "      <td>-0.878407</td>\n",
       "      <td>0.010923</td>\n",
       "      <td>-0.417143</td>\n",
       "      <td>1.016285</td>\n",
       "    </tr>\n",
       "    <tr>\n",
       "      <th>1</th>\n",
       "      <td>Venus</td>\n",
       "      <td>181.2</td>\n",
       "      <td>224.701</td>\n",
       "      <td>1.60213</td>\n",
       "      <td>131.6</td>\n",
       "      <td>0.0068</td>\n",
       "      <td>0.723</td>\n",
       "      <td>151.1</td>\n",
       "      <td>18.95</td>\n",
       "      <td>0.729732</td>\n",
       "      <td>0.344198</td>\n",
       "      <td>0.558037</td>\n",
       "      <td>0.655650</td>\n",
       "      <td>0.210667</td>\n",
       "      <td>-0.638855</td>\n",
       "      <td>0.352667</td>\n",
       "      <td>0.655650</td>\n",
       "    </tr>\n",
       "    <tr>\n",
       "      <th>2</th>\n",
       "      <td>Earth</td>\n",
       "      <td>100.0</td>\n",
       "      <td>365.256</td>\n",
       "      <td>0.98561</td>\n",
       "      <td>102.9</td>\n",
       "      <td>0.0167</td>\n",
       "      <td>1.000</td>\n",
       "      <td>191.8</td>\n",
       "      <td>86.67</td>\n",
       "      <td>1.004275</td>\n",
       "      <td>0.000000</td>\n",
       "      <td>0.000000</td>\n",
       "      <td>0.000000</td>\n",
       "      <td>0.000000</td>\n",
       "      <td>-0.983052</td>\n",
       "      <td>-0.205370</td>\n",
       "      <td>0.000000</td>\n",
       "    </tr>\n",
       "    <tr>\n",
       "      <th>3</th>\n",
       "      <td>Mars</td>\n",
       "      <td>355.2</td>\n",
       "      <td>686.980</td>\n",
       "      <td>0.52403</td>\n",
       "      <td>336.1</td>\n",
       "      <td>0.0934</td>\n",
       "      <td>1.520</td>\n",
       "      <td>261.0</td>\n",
       "      <td>-65.17</td>\n",
       "      <td>1.441899</td>\n",
       "      <td>0.757490</td>\n",
       "      <td>-1.218777</td>\n",
       "      <td>1.434994</td>\n",
       "      <td>-1.102356</td>\n",
       "      <td>-0.225563</td>\n",
       "      <td>-1.424147</td>\n",
       "      <td>1.434994</td>\n",
       "    </tr>\n",
       "    <tr>\n",
       "      <th>4</th>\n",
       "      <td>Jupiter</td>\n",
       "      <td>34.3</td>\n",
       "      <td>4332.590</td>\n",
       "      <td>0.08308</td>\n",
       "      <td>14.3</td>\n",
       "      <td>0.0485</td>\n",
       "      <td>5.200</td>\n",
       "      <td>283.5</td>\n",
       "      <td>274.46</td>\n",
       "      <td>5.167578</td>\n",
       "      <td>2.189400</td>\n",
       "      <td>-4.819427</td>\n",
       "      <td>5.293425</td>\n",
       "      <td>-1.429076</td>\n",
       "      <td>1.206347</td>\n",
       "      <td>-5.024798</td>\n",
       "      <td>5.293425</td>\n",
       "    </tr>\n",
       "    <tr>\n",
       "      <th>5</th>\n",
       "      <td>Saturn</td>\n",
       "      <td>50.1</td>\n",
       "      <td>10759.200</td>\n",
       "      <td>0.03346</td>\n",
       "      <td>93.1</td>\n",
       "      <td>0.0555</td>\n",
       "      <td>9.550</td>\n",
       "      <td>295.4</td>\n",
       "      <td>204.47</td>\n",
       "      <td>9.467043</td>\n",
       "      <td>5.043799</td>\n",
       "      <td>-8.346543</td>\n",
       "      <td>9.752164</td>\n",
       "      <td>-1.496254</td>\n",
       "      <td>4.060747</td>\n",
       "      <td>-8.551914</td>\n",
       "      <td>9.752164</td>\n",
       "    </tr>\n",
       "  </tbody>\n",
       "</table>\n",
       "</div>"
      ],
      "text/plain": [
       "    Planet     λi   T_(Days)       ω0     λp       e  a (A.U.)  λ (helio)  \\\n",
       "0  Mercury  250.2     87.969  4.09235   77.5  0.2056     0.387      271.5   \n",
       "1    Venus  181.2    224.701  1.60213  131.6  0.0068     0.723      151.1   \n",
       "2    Earth  100.0    365.256  0.98561  102.9  0.0167     1.000      191.8   \n",
       "3     Mars  355.2    686.980  0.52403  336.1  0.0934     1.520      261.0   \n",
       "4  Jupiter   34.3   4332.590  0.08308   14.3  0.0485     5.200      283.5   \n",
       "5   Saturn   50.1  10759.200  0.03346   93.1  0.0555     9.550      295.4   \n",
       "\n",
       "   θ mean anomoly    r(A.U)        xG        yG        rG        λg        Xh  \\\n",
       "0          199.72  0.417286  0.993976 -0.211773  1.016285 -0.878407  0.010923   \n",
       "1           18.95  0.729732  0.344198  0.558037  0.655650  0.210667 -0.638855   \n",
       "2           86.67  1.004275  0.000000  0.000000  0.000000  0.000000 -0.983052   \n",
       "3          -65.17  1.441899  0.757490 -1.218777  1.434994 -1.102356 -0.225563   \n",
       "4          274.46  5.167578  2.189400 -4.819427  5.293425 -1.429076  1.206347   \n",
       "5          204.47  9.467043  5.043799 -8.346543  9.752164 -1.496254  4.060747   \n",
       "\n",
       "         Yh  rG (A.U.)  \n",
       "0 -0.417143   1.016285  \n",
       "1  0.352667   0.655650  \n",
       "2 -0.205370   0.000000  \n",
       "3 -1.424147   1.434994  \n",
       "4 -5.024798   5.293425  \n",
       "5 -8.551914   9.752164  "
      ]
     },
     "execution_count": 142,
     "metadata": {},
     "output_type": "execute_result"
    }
   ],
   "source": [
    "df"
   ]
  },
  {
   "cell_type": "code",
   "execution_count": 166,
   "metadata": {},
   "outputs": [],
   "source": [
    "Xg=0.990 \n",
    "Yg=0.259 "
   ]
  },
  {
   "cell_type": "code",
   "execution_count": null,
   "metadata": {},
   "outputs": [],
   "source": [
    "# rg=√(X2g+Y2g) =1.024 A.U.\n",
    "# λg=tan−1(Yg/Xg) =345.3◦"
   ]
  },
  {
   "cell_type": "code",
   "execution_count": 169,
   "metadata": {},
   "outputs": [
    {
     "data": {
      "text/plain": [
       "1.023"
      ]
     },
     "execution_count": 169,
     "metadata": {},
     "output_type": "execute_result"
    }
   ],
   "source": [
    "round(math.sqrt(Xg**2+Yg**2),3)"
   ]
  },
  {
   "cell_type": "code",
   "execution_count": 178,
   "metadata": {},
   "outputs": [
    {
     "data": {
      "text/plain": [
       "14.66091789971255"
      ]
     },
     "execution_count": 178,
     "metadata": {},
     "output_type": "execute_result"
    }
   ],
   "source": [
    "math.degrees(math.atan2(Yg,Xg))"
   ]
  },
  {
   "cell_type": "code",
   "execution_count": null,
   "metadata": {},
   "outputs": [],
   "source": []
  }
 ],
 "metadata": {
  "kernelspec": {
   "display_name": "Python 3",
   "language": "python",
   "name": "python3"
  },
  "language_info": {
   "codemirror_mode": {
    "name": "ipython",
    "version": 3
   },
   "file_extension": ".py",
   "mimetype": "text/x-python",
   "name": "python",
   "nbconvert_exporter": "python",
   "pygments_lexer": "ipython3",
   "version": "3.7.4"
  }
 },
 "nbformat": 4,
 "nbformat_minor": 2
}
